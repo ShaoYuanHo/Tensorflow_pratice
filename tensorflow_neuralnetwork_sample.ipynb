{
  "nbformat": 4,
  "nbformat_minor": 0,
  "metadata": {
    "colab": {
      "name": "tensorflow_neuralnetwork_sample",
      "version": "0.3.2",
      "provenance": []
    },
    "kernelspec": {
      "name": "python3",
      "display_name": "Python 3"
    }
  },
  "cells": [
    {
      "cell_type": "markdown",
      "metadata": {
        "id": "view-in-github",
        "colab_type": "text"
      },
      "source": [
        "[View in Colaboratory](https://colab.research.google.com/github/ShaoYuanHo/Tensorflow_pratice/blob/master/tensorflow_neuralnetwork_sample.ipynb)"
      ]
    },
    {
      "metadata": {
        "id": "PlnO_IfyYmJm",
        "colab_type": "code",
        "colab": {}
      },
      "cell_type": "code",
      "source": [
        "import numpy as np\n",
        "import tensorflow as tf"
      ],
      "execution_count": 0,
      "outputs": []
    },
    {
      "metadata": {
        "id": "FgOeAgmzZ8az",
        "colab_type": "code",
        "colab": {}
      },
      "cell_type": "code",
      "source": [
        "def add_layer(inputs,in_size,out_size,activation_func = None):\n",
        "  \n",
        "  Weights = tf.Variable(tf.random_normal([in_size,out_size]))\n",
        "  biases = tf.Variable(tf.zeros([1,out_size])+0.1)\n",
        "  \n",
        "  Wx_plus_b = tf.matmul(inputs,Weights) + biases\n",
        "  \n",
        "  if activation_func:\n",
        "    return activation_func(Wx_plus_b)\n",
        "  else:\n",
        "    return Wx_plus_b"
      ],
      "execution_count": 0,
      "outputs": []
    },
    {
      "metadata": {
        "id": "1qcZj8NbbJGO",
        "colab_type": "code",
        "colab": {}
      },
      "cell_type": "code",
      "source": [
        "#Make some real data\n",
        "\n",
        "x_data = np.linspace(-1,1,300)[:, np.newaxis]   # [:, np.newaxis] 把原本shape = (,300) --> (1,300)\n",
        "noise = np.random.normal(0, 0.05, x_data.shape) #np.random.normal(mean, std, shpae) compare with tf.random.normal(row,column)\n",
        "y_data = np.square(x_data) - 0.3 + noise"
      ],
      "execution_count": 0,
      "outputs": []
    },
    {
      "metadata": {
        "id": "ZPldYsufgoIz",
        "colab_type": "code",
        "colab": {
          "base_uri": "https://localhost:8080/",
          "height": 374
        },
        "outputId": "56ca0ae0-a859-4151-d0af-ba52408ec83a"
      },
      "cell_type": "code",
      "source": [
        "#define placeholder for input to network\n",
        "\n",
        "xs = tf.placeholder(tf.float32, [None, 1])   #[None,1] 的 None 只任意size, 1指x_data的feature 數\n",
        "ys = tf.placeholder(tf.float32, [None, 1])   #1指output只有1行\n",
        "\n",
        "#add hidden and output layer\n",
        "\n",
        "l1 = add_layer(xs, 1, 10, activation_func = tf.nn.relu) #設定placeholder 的目的是方便設定batch size,此範例沒有使用batch\n",
        "prediction = add_layer(l1, 10, 1, activation_func = None)\n",
        "\n",
        "loss = tf.reduce_mean(tf.reduce_sum(tf.square(ys - prediction),reduction_indices = [1]))\n",
        "\n",
        "train_step = tf.train.GradientDescentOptimizer(0.2).minimize(loss)\n",
        "\n",
        "init = tf.global_variables_initializer()\n",
        "\n",
        "sess = tf.Session()\n",
        "sess.run(init)\n",
        "\n",
        "for i in range(1001):\n",
        "  sess.run(train_step, feed_dict = {xs : x_data,ys : y_data})\n",
        "  if i%50 == 0:\n",
        "    print (sess.run(loss, feed_dict={xs: x_data, ys: y_data}))\n",
        "    \n",
        "\n"
      ],
      "execution_count": 16,
      "outputs": [
        {
          "output_type": "stream",
          "text": [
            "1.2309512\n",
            "0.008202817\n",
            "0.0043549766\n",
            "0.0038378322\n",
            "0.0035540198\n",
            "0.0033729228\n",
            "0.0032779195\n",
            "0.0032358011\n",
            "0.0032123171\n",
            "0.003199716\n",
            "0.003195442\n",
            "0.0031931014\n",
            "0.0031815583\n",
            "0.0031696\n",
            "0.00315957\n",
            "0.0031543658\n",
            "0.00315143\n",
            "0.0031493616\n",
            "0.0031471003\n",
            "0.003145586\n",
            "0.0031445187\n"
          ],
          "name": "stdout"
        }
      ]
    },
    {
      "metadata": {
        "id": "VMNGaXt3kCOK",
        "colab_type": "code",
        "colab": {}
      },
      "cell_type": "code",
      "source": [
        ""
      ],
      "execution_count": 0,
      "outputs": []
    }
  ]
}