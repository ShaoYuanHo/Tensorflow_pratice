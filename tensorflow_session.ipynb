{
  "nbformat": 4,
  "nbformat_minor": 0,
  "metadata": {
    "colab": {
      "name": "tensorflow_session",
      "version": "0.3.2",
      "provenance": []
    },
    "kernelspec": {
      "name": "python3",
      "display_name": "Python 3"
    }
  },
  "cells": [
    {
      "cell_type": "markdown",
      "metadata": {
        "id": "view-in-github",
        "colab_type": "text"
      },
      "source": [
        "[View in Colaboratory](https://colab.research.google.com/github/ShaoYuanHo/Tensorflow_pratice/blob/master/tensorflow_session.ipynb)"
      ]
    },
    {
      "metadata": {
        "id": "eOgqn5tj3Kp0",
        "colab_type": "code",
        "colab": {}
      },
      "cell_type": "code",
      "source": [
        "import tensorflow as tf"
      ],
      "execution_count": 0,
      "outputs": []
    },
    {
      "metadata": {
        "id": "-y3GXNo93wlp",
        "colab_type": "code",
        "colab": {}
      },
      "cell_type": "code",
      "source": [
        "matrix1 = tf.constant([[3,3]])\n",
        "matrix2 = tf.constant([[2],\n",
        "                     [2]])\n",
        "product = tf.matmul(matrix1,matrix2) # means matrix multiply == np.dot(m1,m2)"
      ],
      "execution_count": 0,
      "outputs": []
    },
    {
      "metadata": {
        "id": "paV3CzBB4asf",
        "colab_type": "code",
        "colab": {
          "base_uri": "https://localhost:8080/",
          "height": 34
        },
        "outputId": "85b2a43d-461b-46a6-ba3c-21352ce1186a"
      },
      "cell_type": "code",
      "source": [
        "#method1\n",
        "\n",
        "sess = tf.Session()\n",
        "res1 = sess.run(product)\n",
        "print(res1)\n",
        "sess.close()"
      ],
      "execution_count": 8,
      "outputs": [
        {
          "output_type": "stream",
          "text": [
            "[[12]]\n"
          ],
          "name": "stdout"
        }
      ]
    },
    {
      "metadata": {
        "id": "FyS2_0U248kc",
        "colab_type": "code",
        "colab": {
          "base_uri": "https://localhost:8080/",
          "height": 34
        },
        "outputId": "6b1a3506-81dc-4761-ee58-c46a8c82d4a5"
      },
      "cell_type": "code",
      "source": [
        "#method2\n",
        "\n",
        "with tf.Session() as sess: #no need to close\n",
        "  res2 = sess.run(product)\n",
        "  print(res2)\n",
        "  "
      ],
      "execution_count": 9,
      "outputs": [
        {
          "output_type": "stream",
          "text": [
            "[[12]]\n"
          ],
          "name": "stdout"
        }
      ]
    },
    {
      "metadata": {
        "id": "Z-CodFME5M1t",
        "colab_type": "code",
        "colab": {}
      },
      "cell_type": "code",
      "source": [
        ""
      ],
      "execution_count": 0,
      "outputs": []
    }
  ]
}