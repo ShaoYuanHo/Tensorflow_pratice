{
  "nbformat": 4,
  "nbformat_minor": 0,
  "metadata": {
    "colab": {
      "name": "tensorflow_example1",
      "version": "0.3.2",
      "provenance": []
    },
    "kernelspec": {
      "name": "python3",
      "display_name": "Python 3"
    }
  },
  "cells": [
    {
      "cell_type": "markdown",
      "metadata": {
        "id": "view-in-github",
        "colab_type": "text"
      },
      "source": [
        "[View in Colaboratory](https://colab.research.google.com/github/ShaoYuanHo/Tensorflow_pratice/blob/master/tensorflow_example1.ipynb)"
      ]
    },
    {
      "metadata": {
        "id": "0joeusjAUJZ_",
        "colab_type": "code",
        "colab": {}
      },
      "cell_type": "code",
      "source": [
        "import tensorflow as tf\n",
        "import numpy as np"
      ],
      "execution_count": 0,
      "outputs": []
    },
    {
      "metadata": {
        "id": "CsUnyxx2UpAO",
        "colab_type": "code",
        "colab": {}
      },
      "cell_type": "code",
      "source": [
        "#create data\n",
        "\n",
        "x_data = np.random.rand(100).astype(np.float32)\n",
        "y_data = 0.3*x_data+0.1"
      ],
      "execution_count": 0,
      "outputs": []
    },
    {
      "metadata": {
        "id": "vJTT0XuhVI7T",
        "colab_type": "code",
        "colab": {}
      },
      "cell_type": "code",
      "source": [
        "### create tensorflow structure start ###\n",
        "\n",
        "Weight = tf.Variable(tf.random_uniform([1],-1.0,1.0))\n",
        "Bias = tf.Variable(tf.zeros([1]))\n",
        "\n",
        "y = Weight*x_data + Bias\n",
        "\n",
        "loss = tf.reduce_mean(tf.square(y-y_data))\n",
        "optimizer = tf.train.GradientDescentOptimizer(0.5)\n",
        "train = optimizer.minimize(loss)\n",
        "\n",
        "### create tensorflow structure end ###"
      ],
      "execution_count": 0,
      "outputs": []
    },
    {
      "metadata": {
        "id": "Mb24ENJjXkTo",
        "colab_type": "code",
        "colab": {}
      },
      "cell_type": "code",
      "source": [
        "sess = tf.Session()\n",
        "init = tf.global_variables_initializer()\n",
        "sess.run(init)"
      ],
      "execution_count": 0,
      "outputs": []
    },
    {
      "metadata": {
        "id": "ptNsSjKcYQa8",
        "colab_type": "code",
        "colab": {
          "base_uri": "https://localhost:8080/",
          "height": 289
        },
        "outputId": "3c75fcfc-1d9e-4f8b-d807-dee040ed6695"
      },
      "cell_type": "code",
      "source": [
        "for step in range(301):\n",
        "  sess.run(train)\n",
        "  if step%20 == 0:\n",
        "    print(step, sess.run(Weight), sess.run(Bias))"
      ],
      "execution_count": 5,
      "outputs": [
        {
          "output_type": "stream",
          "text": [
            "0 [0.26729503] [0.15696606]\n",
            "20 [0.2880028] [0.10619742]\n",
            "40 [0.29706526] [0.10151601]\n",
            "60 [0.2992821] [0.10037085]\n",
            "80 [0.29982445] [0.1000907]\n",
            "100 [0.29995707] [0.10002218]\n",
            "120 [0.29998952] [0.10000543]\n",
            "140 [0.29999745] [0.10000132]\n",
            "160 [0.2999994] [0.10000033]\n",
            "180 [0.29999986] [0.10000007]\n",
            "200 [0.2999999] [0.10000006]\n",
            "220 [0.2999999] [0.10000006]\n",
            "240 [0.2999999] [0.10000006]\n",
            "260 [0.2999999] [0.10000006]\n",
            "280 [0.2999999] [0.10000006]\n",
            "300 [0.2999999] [0.10000006]\n"
          ],
          "name": "stdout"
        }
      ]
    },
    {
      "metadata": {
        "id": "DV0EBggIY-rl",
        "colab_type": "code",
        "colab": {}
      },
      "cell_type": "code",
      "source": [
        ""
      ],
      "execution_count": 0,
      "outputs": []
    }
  ]
}